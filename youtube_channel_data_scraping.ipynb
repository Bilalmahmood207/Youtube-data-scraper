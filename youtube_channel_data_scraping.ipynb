{
 "cells": [
  {
   "cell_type": "code",
   "execution_count": 1,
   "id": "923c85e5-2562-4398-85ce-0024a854222b",
   "metadata": {},
   "outputs": [],
   "source": [
    "import csv\n",
    "from time import sleep\n",
    "from selenium import webdriver\n",
    "from selenium.webdriver.common.keys import Keys\n",
    "from selenium.webdriver.common.by import By\n",
    "from selenium.webdriver.support.ui import WebDriverWait\n",
    "from selenium.webdriver.support import expected_conditions as EC\n",
    "from selenium.webdriver.chrome.service import Service as ChromeService\n",
    "from bs4 import BeautifulSoup"
   ]
  },
  {
   "cell_type": "code",
   "execution_count": 2,
   "id": "0baa0a6f-820a-4fa3-9dbe-37d1bbea0ebd",
   "metadata": {},
   "outputs": [],
   "source": [
    "webdriver_path = 'chromedriver.exe'\n",
    "options = webdriver.ChromeOptions()\n",
    "options.headless = True\n",
    "service = ChromeService(executable_path=webdriver_path)\n",
    "driver = webdriver.Chrome(service=service, options=options)\n",
    "\n",
    "# Define the URL\n",
    "URL_utube = \"https://www.youtube.com/@mooroosicity/videos\"\n",
    "driver.get(URL_utube)\n",
    "driver.implicitly_wait(8)\n"
   ]
  },
  {
   "cell_type": "code",
   "execution_count": 3,
   "id": "e2f10497-604d-436b-80ed-bcde7345bfde",
   "metadata": {},
   "outputs": [],
   "source": [
    "# Extract titles\n",
    "titles = driver.find_elements(By.ID, \"video-title\")\n",
    "titles = [title.text for title in titles if isinstance(title, webdriver.remote.webelement.WebElement)]\n"
   ]
  },
  {
   "cell_type": "code",
   "execution_count": 4,
   "id": "64e987c9-e633-4a62-83f6-f9cd89d51cf5",
   "metadata": {},
   "outputs": [],
   "source": [
    "# Extract views\n",
    "views = driver.find_elements(By.XPATH, '//div[@id=\"metadata-line\"]/span[1]')\n",
    "views = [view.text for view in views]\n"
   ]
  },
  {
   "cell_type": "code",
   "execution_count": 8,
   "id": "a2dfc0df-9107-47bf-83a8-9f2d7fe99d9d",
   "metadata": {},
   "outputs": [],
   "source": [
    "# Extract thumbnails\n",
    "thumbnails = driver.find_elements(By.XPATH, '//a[@id=\"thumbnail\"]/yt-image/img')\n",
    "thumbnail_urls = [thumbnail.get_attribute(\"src\") for thumbnail in thumbnails]"
   ]
  },
  {
   "cell_type": "code",
   "execution_count": 5,
   "id": "47688d02-c568-44f9-ab75-e7b9d6338e08",
   "metadata": {},
   "outputs": [],
   "source": [
    "# Extract posted times\n",
    "posted_times = driver.find_elements(By.XPATH, '//span[@class=\"inline-metadata-item style-scope ytd-video-meta-block\"][2]')\n",
    "posted_times = [time.text for time in posted_times]"
   ]
  },
  {
   "cell_type": "code",
   "execution_count": 6,
   "id": "496b84bf-e2be-4cb2-bba7-6039fd957cec",
   "metadata": {},
   "outputs": [],
   "source": [
    "# Search for a video and extract comments\n",
    "search = driver.find_element(By.NAME, \"search_query\")\n",
    "search.clear()\n",
    "search.send_keys(\"Views Ka Chakkar (with @Oyyeharry) | Feat. Redmi Note 13 Pro+\")\n",
    "search.send_keys(Keys.ENTER)\n",
    "sleep(5)\n",
    "link = WebDriverWait(driver, 10).until(EC.element_to_be_clickable((By.XPATH, '//*[@id=\"video-title\"]/yt-formatted-string')))\n",
    "link.click()\n",
    "sleep(20)\n",
    "for i in range(2000):\n",
    "    driver.execute_script(\"window.scrollBy(0,700)\",\"\")\n",
    "    sleep(2)\n",
    "sleep(20)\n",
    "comments = driver.find_elements(By.XPATH,\"\"\"//*[@id=\"content-text\"]/span\"\"\")\n",
    "comments = [comment.text for comment in comments]"
   ]
  },
  {
   "cell_type": "code",
   "execution_count": 9,
   "id": "eb86b1df-fce2-43d3-8c75-e5e67a89d612",
   "metadata": {},
   "outputs": [
    {
     "name": "stdout",
     "output_type": "stream",
     "text": [
      "Data saved to youtube_data.csv\n"
     ]
    }
   ],
   "source": [
    "# Write data to CSV file\n",
    "csv_file = 'youtube_data.csv'\n",
    "\n",
    "with open(csv_file, 'w', newline='', encoding='utf-8') as csvfile:\n",
    "    csvwriter = csv.writer(csvfile)\n",
    "    csvwriter.writerow(['Title', 'Views', 'Thumbnail', 'Posted Time', 'Comments'])\n",
    "    for data in zip(titles, views, thumbnail_urls, posted_times, comments):\n",
    "        csvwriter.writerow(data)\n",
    "\n",
    "print(\"Data saved to\", csv_file)"
   ]
  },
  {
   "cell_type": "code",
   "execution_count": null,
   "id": "a48016d2-501d-4abf-b45b-65818e3d76a9",
   "metadata": {},
   "outputs": [],
   "source": []
  }
 ],
 "metadata": {
  "kernelspec": {
   "display_name": "Python 3 (ipykernel)",
   "language": "python",
   "name": "python3"
  },
  "language_info": {
   "codemirror_mode": {
    "name": "ipython",
    "version": 3
   },
   "file_extension": ".py",
   "mimetype": "text/x-python",
   "name": "python",
   "nbconvert_exporter": "python",
   "pygments_lexer": "ipython3",
   "version": "3.12.3"
  }
 },
 "nbformat": 4,
 "nbformat_minor": 5
}
